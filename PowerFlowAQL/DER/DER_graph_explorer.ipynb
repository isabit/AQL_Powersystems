{
 "cells": [
  {
   "cell_type": "code",
   "execution_count": 8,
   "metadata": {},
   "outputs": [
    {
     "ename": "LoadError",
     "evalue": "\u001b[91minvalid redefinition of constant LinkedListNode\u001b[39m",
     "output_type": "error",
     "traceback": [
      "\u001b[91minvalid redefinition of constant LinkedListNode\u001b[39m",
      ""
     ]
    }
   ],
   "source": [
    "type LinkedListNode{T}\n",
    "    entry::T\n",
    "    next::Nullable{LinkedListNode{T}}\n",
    "end\n",
    "\n",
    "# Create a linked list node pointing to nothing\n",
    "function LinkedListNode{T}(entry::T) where T\n",
    "    return LinkedListNode{T}(entry, Nullable{T}())\n",
    "end\n",
    "\n",
    "type LinkedList{T}\n",
    "    first::Nullable{LinkedListNode{T}}\n",
    "    last::Nullable{LinkedListNode{T}}\n",
    "end\n",
    "\n",
    "# Create an empty linked list\n",
    "function LinkedList{T}() where T\n",
    "    return LinkedList{T}(Nullable{T}(), Nullable{T}())\n",
    "end\n",
    "\n",
    "import Base.start\n",
    "function start(ll::LinkedList{T}) where T\n",
    "    return ll.first\n",
    "end\n",
    "\n",
    "import Base.next\n",
    "function next(ll::LinkedList{T}, state::Nullable{LinkedListNode{T}}) where T\n",
    "    return (state.entry, state.next)\n",
    "end\n",
    "\n",
    "import Base.done\n",
    "function done(ll::LinkedList{T}, state::Nullable{LinkedListNode{T}}) where T\n",
    "    return isnull(state)\n",
    "end\n",
    "\n",
    "import Base.push!\n",
    "function push!(ll::LinkedList{T}, items::Vararg{T,N} where N) where T\n",
    "    for item in items\n",
    "        newnode = LinkedListNode{T}(item)\n",
    "        if isnull(ll.first)\n",
    "            ll.first = newnode\n",
    "            ll.last = newnode\n",
    "        else\n",
    "            get(ll.last).next = newnode\n",
    "            ll.last = newnode\n",
    "        end\n",
    "    end\n",
    "    return ll\n",
    "end\n",
    "\n",
    "import Base.shift!\n",
    "function shift!(ll::LinkedList{T}) where T\n",
    "    firstentry = get(ll.first).entry\n",
    "    if isnull(get(ll.first).next)\n",
    "        ll = LinkedList{T}()\n",
    "    else\n",
    "        ll.first = get(ll.first).next\n",
    "    end\n",
    "    return firstentry\n",
    "end"
   ]
  },
  {
   "cell_type": "code",
   "execution_count": 33,
   "metadata": {},
   "outputs": [
    {
     "data": {
      "text/plain": [
       "getstringspecifier (generic function with 1 method)"
      ]
     },
     "execution_count": 33,
     "metadata": {},
     "output_type": "execute_result"
    }
   ],
   "source": [
    "# Performs a breadth-first search to find a state / occupation vector satisfying\n",
    "# constraints (passed as a boolean function of P, Q of current state).\n",
    "# Pvec and Qvec are vectors with entry i corresponding to P or Q of state i\n",
    "# translist is an array with +1 / -1 elements corresponding to state changes after each transition\n",
    "function find_satisfier(constraints, startvec, Pvec, Qvec, translist)\n",
    "    currvec = startvec\n",
    "    visitedset = Set{Array{Int,1}}()\n",
    "    nextset = Set{Array{Int,1}}()\n",
    "    nextll = LinkedList{Array{Int,1}}()\n",
    "    \n",
    "    while !constraints(vecdot(currvec, Pvec), vecdot(currvec, Qvec))\n",
    "        union!(visitedset, [currvec])\n",
    "        # Apply all transitions to currvec to get next vecs to search\n",
    "        for tlrow in 1:size(translist,1)\n",
    "            vec = currvec + translist[tlrow,:]\n",
    "            if all(vec .>= 0) && !in(vec, visitedset) && !in(vec, nextset)\n",
    "                # If this is a new + valid occupation vector add it to be visited later\n",
    "                union!(nextset, [vec])\n",
    "                push!(nextll, vec)\n",
    "            end\n",
    "        end\n",
    "        \n",
    "        if isempty(nextset)\n",
    "            error(\"Solution not found.\")\n",
    "        else\n",
    "            currvec = shift!(nextll)\n",
    "            setdiff!(nextset, [currvec])\n",
    "        end\n",
    "    end\n",
    "    \n",
    "    return currvec\n",
    "end\n",
    "\n",
    "# Computes a starting vector for DER_graph_explorer from the DERtable and\n",
    "# statetable (both coming from an AQL DERNetworkInState)\n",
    "function getstartvec(DERs, states)\n",
    "    stateidcol = findfirst(map(x -> x == \"id\", states[1,:]))\n",
    "    instatecol = findfirst(map(x -> x == \"in_state\", DERs[1,:]))\n",
    "    stateids::Array{Int,1} = states[2:end,stateidcol]\n",
    "    DERstateids::Array{Int,1} = DERs[2:end,instatecol]\n",
    "    numinstate = stateid -> count(x -> x == stateid, DERstateids)\n",
    "    startvec = map(numinstate, stateids)\n",
    "end\n",
    "\n",
    "# Converts an occupation vector into a nice, readable string\n",
    "function getstringspecifier(vec, DERtypes, states)\n",
    "    result = \"\"\n",
    "    stateidcol = findfirst(map(x -> x == \"id\", states[1,:]))\n",
    "    statenamecol = findfirst(map(x -> x == \"name\", states[1,:]))\n",
    "    fortypecol = findfirst(map(x -> x == \"for_type\", states[1,:]))\n",
    "    typeidcol = findfirst(map(x -> x == \"id\", DERtypes[1,:]))\n",
    "    typenamecol = findfirst(map(x -> x == \"name\", DERtypes[1,:]))\n",
    "    for i in 2:size(DERtypes,1)\n",
    "        result *= \"$(DERtypes[i,typenamecol]):\"\n",
    "        stateindices = find(x -> x == DERtypes[i,typeidcol], states[:,fortypecol])\n",
    "        for j in stateindices\n",
    "            result *= \" $(vec[j-1]) $(states[j,statenamecol])\"\n",
    "        end\n",
    "        if i != size(DERtypes,1)\n",
    "            result *= \"\\n\"\n",
    "        end\n",
    "    end\n",
    "    return result\n",
    "end"
   ]
  },
  {
   "cell_type": "code",
   "execution_count": 42,
   "metadata": {},
   "outputs": [
    {
     "name": "stdout",
     "output_type": "stream",
     "text": [
      "HVAC: 0 Low 10 Off 0 High\n",
      "PV: 0 Off 2 High 9 Low\n",
      "Battery: 5 Off 0 Discharging 0 Charging\n"
     ]
    }
   ],
   "source": [
    "# Import files from AQL containing info on behavior, number of DERs\n",
    "folderpath = \"C:/Users/jsn1/Documents/AQL/DER/example\"\n",
    "DERs = readcsv(folderpath * \"/DER.csv\")\n",
    "DERtypes = readcsv(folderpath * \"/DERType.csv\")\n",
    "states = readcsv(folderpath * \"/state.csv\")\n",
    "transitions = readcsv(folderpath * \"/transition.csv\")\n",
    "\n",
    "# Get starting state and desired constraints\n",
    "# Starting state specified as occupation vector (vector with element i = \n",
    "# number of DERs in state i, where order is same as in state.csv ???)\n",
    "# Constraints are specified as Boolean-valued function of P and Q (f: R^2 -> B)\n",
    "startvec = getstartvec(DERs, states)\n",
    "\n",
    "constraints = (P,Q) -> (Q - P >= 25)\n",
    "\n",
    "# Generate 'list' (actually a matrix) of all possible transitions\n",
    "# Rows correspond to transitions, columns correspond to states\n",
    "# Each row has all zeros except for a -1 (from state) and a +1 (to state)\n",
    "stateidcol = findfirst(map(x -> x == \"id\", states[1,:]))\n",
    "statetoindex = Dict{Int,Int}(map(i -> (states[i,stateidcol], i), 2:size(states,1)))\n",
    "fromstatecol = findfirst(map(x -> x == \"from_state\", transitions[1,:]))\n",
    "tostatecol = findfirst(map(x -> x == \"to_state\", transitions[1,:]))\n",
    "translist = zeros(Int,size(transitions,1)-1, size(states,1)-1)\n",
    "for i = 2:size(transitions,1)\n",
    "    translist[i-1, statetoindex[transitions[i,fromstatecol]]-1] = -1\n",
    "    translist[i-1, statetoindex[transitions[i,tostatecol]]-1] = 1\n",
    "end\n",
    "\n",
    "# Get P's and Q's for each state (in same order as state.csv)\n",
    "Pcol = findfirst(map(x -> x == \"P\", states[1,:]))\n",
    "Qcol = findfirst(map(x -> x == \"Q\", states[1,:]))\n",
    "Pvec = states[2:end,Pcol]\n",
    "Qvec = states[2:end,Qcol]\n",
    "\n",
    "# Given a starting vertex / \"current state\", do a breadth-first search on\n",
    "# the product until you reach a vertex / state meeting conditions.\n",
    "# Return the occupation vector for the found state\n",
    "# From here it should be obvious how to reach the given state\n",
    "result = find_satisfier(constraints, startvec, Pvec, Qvec, translist)\n",
    "\n",
    "# Print results\n",
    "println(getstringspecifier(result, DERtypes, states))"
   ]
  },
  {
   "cell_type": "code",
   "execution_count": 5,
   "metadata": {},
   "outputs": [
    {
     "data": {
      "text/plain": [
       "1"
      ]
     },
     "execution_count": 5,
     "metadata": {},
     "output_type": "execute_result"
    }
   ],
   "source": [
    "(x, y) = (1, 2)\n",
    "x"
   ]
  },
  {
   "cell_type": "code",
   "execution_count": 4,
   "metadata": {},
   "outputs": [
    {
     "name": "stdout",
     "output_type": "stream",
     "text": [
      "hey \n",
      "you\n"
     ]
    }
   ],
   "source": [
    "println(\"hey \\nyou\")"
   ]
  },
  {
   "cell_type": "code",
   "execution_count": null,
   "metadata": {},
   "outputs": [],
   "source": []
  }
 ],
 "metadata": {
  "kernelspec": {
   "display_name": "Julia 0.6.3",
   "language": "julia",
   "name": "julia-0.6"
  },
  "language_info": {
   "file_extension": ".jl",
   "mimetype": "application/julia",
   "name": "julia",
   "version": "0.6.3"
  }
 },
 "nbformat": 4,
 "nbformat_minor": 2
}
